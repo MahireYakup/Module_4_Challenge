{
 "cells": [
  {
   "cell_type": "markdown",
   "id": "c2f9ef92",
   "metadata": {},
   "source": [
    "Overview of the school district analysis: Explain the purpose of this analysis."
   ]
  },
  {
   "cell_type": "markdown",
   "id": "1d5eec6b",
   "metadata": {},
   "source": [
    "## Overview of the school district analysis: Explain the purpose of this analysis."
   ]
  },
  {
   "cell_type": "code",
   "execution_count": null,
   "id": "3af56603",
   "metadata": {},
   "outputs": [],
   "source": []
  }
 ],
 "metadata": {
  "kernelspec": {
   "display_name": "PythonData",
   "language": "python",
   "name": "pythondata"
  },
  "language_info": {
   "codemirror_mode": {
    "name": "ipython",
    "version": 3
   },
   "file_extension": ".py",
   "mimetype": "text/x-python",
   "name": "python",
   "nbconvert_exporter": "python",
   "pygments_lexer": "ipython3",
   "version": "3.9.7"
  }
 },
 "nbformat": 4,
 "nbformat_minor": 5
}
