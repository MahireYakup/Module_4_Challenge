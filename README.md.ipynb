{
 "cells": [
  {
   "cell_type": "markdown",
   "id": "7534553d",
   "metadata": {},
   "source": [
    "## Overview of the school district analysis: Explain the purpose of this analysis."
   ]
  },
  {
   "cell_type": "markdown",
   "id": "b98baa89",
   "metadata": {},
   "source": [
    "The researchers would like to know the  15 schools of math and reading performance of the high school students. The schools have different budgets and are located in different districts. \n",
    "However, the previous data analysis showed evidence of academic dishonesty, which came from Thomas High School; specifically, reading and math grades for Thomas High School ninth-graders appear to have been altered. \n",
    "Now school boarding asked the clients to recalculate all school data without calculating nine-grade students from Thomas High School. Since Thomas High school had a ninth-grade problem, it will not include the ninth grade in all data analysis. \n",
    "We expected some changes to the original data, not only the whole school's performance but also Thomas high school's performance on math and reading. In the following section, we will calculated math and reading without nine-grade Thomas high school students."
   ]
  },
  {
   "cell_type": "markdown",
   "id": "b8480576",
   "metadata": {},
   "source": [
    "### Basic strategies of reculculations:"
   ]
  },
  {
   "cell_type": "markdown",
   "id": "d2ebc36b",
   "metadata": {},
   "source": [
    "First step, replace the math and reading performance from the nine-grade students from thomas High school as NAN using np.nan and loc functions.\n",
    "Second step, repeat all analysis as previosu steps where Thomas High is considered as normal performance.\n",
    "Third step, replace teh new grades percentages to the old one by keeping data format same."
   ]
  },
  {
   "cell_type": "markdown",
   "id": "eb462565",
   "metadata": {},
   "source": [
    "## Deliverable 1: Replace ninth-grade reading and math scores"
   ]
  },
  {
   "cell_type": "markdown",
   "id": "005c5b0b",
   "metadata": {},
   "source": [
    "Using the following code replace 9-grade students' reading and math performance for NAN as using np.nan from Numpy.\n",
    "code: student_data_df.loc[((student_data_df[\"school_name\"]==\"Thomas High School\") & (student_data_df[\"grade\"]==\"9th\")),\"math_score\"]=np.nan\n",
    "student_data_df.head(10)\n",
    "student_data_df.tail(10)"
   ]
  },
  {
   "cell_type": "markdown",
   "id": "6c19b8f1",
   "metadata": {},
   "source": [
    "After replaing NAN we checked the Thoams High School info : it is as below: <class 'pandas.core.frame.DataFrame'> Int64Index: 461 entries, 37537 to 39167 Data columns (total 7 columns): Column Non-Null Count Dtype\n",
    "\n",
    "0 Student ID 461 non-null int64\n",
    "1 student_name 461 non-null object 2 gender 461 non-null object 3 grade 461 non-null object 4 school_name 461 non-null object 5 reading_score 0 non-null float64 6 math_score 0 non-null float64 dtypes: float64(2), int64(1), object(4) memory usage: 28.8+ KB"
   ]
  },
  {
   "cell_type": "markdown",
   "id": "ffc5b964",
   "metadata": {},
   "source": [
    "Therefore, total 461 student's grades from math and reading are not effective in this data anlysis"
   ]
  },
  {
   "cell_type": "markdown",
   "id": "0f16bdeb",
   "metadata": {},
   "source": [
    "## Deliverable 2 : Repeat the school district analysis¶"
   ]
  },
  {
   "cell_type": "markdown",
   "id": "67f29739",
   "metadata": {},
   "source": [
    "### District Summary"
   ]
  },
  {
   "cell_type": "markdown",
   "id": "79caa2db",
   "metadata": {},
   "source": [
    "#### Results"
   ]
  },
  {
   "cell_type": "markdown",
   "id": "5b86ca23",
   "metadata": {},
   "source": [
    "#### How is the district summary affected?"
   ]
  },
  {
   "cell_type": "markdown",
   "id": "e208962c",
   "metadata": {},
   "source": [
    "the reading, math performance in percentage and average are slightly dropped compared to the old one in which Thomas High school data was complete. Withough any statistic test it is hard to tell the differences were significant or not."
   ]
  },
  {
   "cell_type": "markdown",
   "id": "01c23fb3",
   "metadata": {},
   "source": [
    "#### How is the school summary affected?"
   ]
  },
  {
   "cell_type": "markdown",
   "id": "baf85744",
   "metadata": {},
   "source": [
    "There are huge differences of students performance in math and reading in terms of school. Since Thomas High school nine-grades data was removed from the whole analysis. This total number of the students did not change therefore when we calculated the average, all average score dropped becasue of lacking data for nine-grades.."
   ]
  },
  {
   "cell_type": "markdown",
   "id": "c4aa4402",
   "metadata": {},
   "source": [
    "#### How does replacing the ninth graders’ math and reading scores affect Thomas High School’s performance relative to the other schools?"
   ]
  },
  {
   "cell_type": "markdown",
   "id": "588d4f65",
   "metadata": {},
   "source": [
    "Thomas high school, before the finding dishonesty, was one of the top High school in terms of overall passing percentages. After recalculations,  the passing math percentage  was dropped from original 93.27% to 66.91%, and same as passing reading percentages from 97.3% to 69.66%, and overall passing percentages from 90% to 65 %. However, the average math and reading did not change much from the original data with considering nie-grades of from Thomas High School. \n"
   ]
  },
  {
   "cell_type": "markdown",
   "id": "8b80e4ca",
   "metadata": {},
   "source": [
    "#### How does replacing the ninth-grade scores affect the following:\n"
   ]
  },
  {
   "cell_type": "markdown",
   "id": "545ee558",
   "metadata": {},
   "source": [
    "##### Math and reading scores by grade\n"
   ]
  },
  {
   "cell_type": "markdown",
   "id": "43705829",
   "metadata": {},
   "source": [
    "There were no significant differences in terms of math grading among schools-anylisis with Thomas high nine grade and without it. However, in post analysis which is the analysis of without considering Thomas High nine-grades,only difference was Thomas High nine-grade as NAN for average math. (no grade is claculated) The statement is same for reading score, which means only Thomas High School nine-grade performances of math and reading as NAN."
   ]
  },
  {
   "cell_type": "markdown",
   "id": "7625e15a",
   "metadata": {},
   "source": [
    "##### Scores by school spending"
   ]
  },
  {
   "cell_type": "markdown",
   "id": "d04eb3ae",
   "metadata": {},
   "source": [
    "Replacing ninth_grade was only affacted on the spending range of per students on the range where Thomas high school involved."
   ]
  },
  {
   "cell_type": "markdown",
   "id": "51cd9470",
   "metadata": {},
   "source": [
    "##### Scores by school size"
   ]
  },
  {
   "cell_type": "markdown",
   "id": "a6734f29",
   "metadata": {},
   "source": [
    "Replacing ninth_grade was only affacted on the school_size where Thomas high school involved.Over all passing dropped from 90% to 85% in new data analysis."
   ]
  },
  {
   "cell_type": "markdown",
   "id": "417b3fe3",
   "metadata": {},
   "source": [
    "#### Scores by school type"
   ]
  },
  {
   "cell_type": "markdown",
   "id": "e6405a8a",
   "metadata": {},
   "source": [
    "Replacing ninth_grade was only affacted on the school_type where Thomas high school involved.Over all passing dropped from 90% to 87% in new data analysis."
   ]
  },
  {
   "cell_type": "markdown",
   "id": "74400516",
   "metadata": {},
   "source": [
    "## Summary"
   ]
  },
  {
   "cell_type": "markdown",
   "id": "4bbdb2b6",
   "metadata": {},
   "source": [
    "After replacing math and reading scores from ninth_grade students in Thomas High School, the average math and reading scores did not change signficnatly; however, overall passing, passing  math and reading percentages dramatically changed in Thomas high school and over all results as well, where Thomas High School was involved. School spending, school type and school size had been changed where Thomas High Data was considered. As usual, the medium or small school sizes are related to higher overall passing, and interestingly, the school spending  is not positively related to overall passing in which less spending ranges seemed to have higher overall passing. "
   ]
  },
  {
   "cell_type": "code",
   "execution_count": null,
   "id": "e2f7146b",
   "metadata": {},
   "outputs": [],
   "source": []
  }
 ],
 "metadata": {
  "kernelspec": {
   "display_name": "PythonData",
   "language": "python",
   "name": "pythondata"
  },
  "language_info": {
   "codemirror_mode": {
    "name": "ipython",
    "version": 3
   },
   "file_extension": ".py",
   "mimetype": "text/x-python",
   "name": "python",
   "nbconvert_exporter": "python",
   "pygments_lexer": "ipython3",
   "version": "3.9.7"
  }
 },
 "nbformat": 4,
 "nbformat_minor": 5
}
